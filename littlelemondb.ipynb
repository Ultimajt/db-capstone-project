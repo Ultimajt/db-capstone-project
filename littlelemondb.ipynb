{
 "cells": [
  {
   "cell_type": "code",
   "execution_count": null,
   "id": "9d9e35d6",
   "metadata": {},
   "outputs": [],
   "source": [
    "!pip show mysql-connector-python"
   ]
  },
  {
   "cell_type": "code",
   "execution_count": null,
   "id": "aae899d0",
   "metadata": {},
   "outputs": [],
   "source": [
    "import mysql.connector as connector"
   ]
  },
  {
   "cell_type": "code",
   "execution_count": null,
   "id": "14d73feb",
   "metadata": {},
   "outputs": [],
   "source": [
    "connection=connector.connect(\n",
    "                             user=\"root\",\n",
    "                             password=\"\",\n",
    "                            )"
   ]
  },
  {
   "cell_type": "code",
   "execution_count": null,
   "id": "a7b06180",
   "metadata": {},
   "outputs": [],
   "source": [
    "cursor = connection.cursor()"
   ]
  },
  {
   "cell_type": "code",
   "execution_count": null,
   "id": "83ac7c2f",
   "metadata": {},
   "outputs": [],
   "source": [
    "cursor.execute(\"USE littlelemondb\")\n",
    "\n",
    "connection.database"
   ]
  },
  {
   "cell_type": "code",
   "execution_count": null,
   "id": "36edc533",
   "metadata": {},
   "outputs": [],
   "source": [
    "cursor.execute(\"SHOW TABLES\")\n",
    "for table in cursor:\n",
    "    print(table)"
   ]
  },
  {
   "cell_type": "code",
   "execution_count": null,
   "id": "e557eee2",
   "metadata": {},
   "outputs": [],
   "source": [
    "join_query=\"\"\"SELECT \n",
    "Customers.FirstName, \n",
    "Customers.LastName, \n",
    "Customers.Email, \n",
    "Orders.TotalCost \n",
    "FROM Customers \n",
    "INNER JOIN Orders ON Customers.CustomerID=Orders.CustomerID\n",
    "WHERE TotalCost>60;\"\"\"\n",
    "\n",
    "cursor.execute(join_query)\n",
    "\n",
    "results = cursor.fetchall()\n",
    "\n",
    "columns = cursor.column_names\n",
    "\n",
    "print(columns)\n",
    "\n",
    "for result in results:\n",
    "    print(result) "
   ]
  },
  {
   "cell_type": "code",
   "execution_count": null,
   "id": "4828a125",
   "metadata": {},
   "outputs": [],
   "source": [
    "if connection.is_connected():\n",
    "    cursor.close()\n",
    "    print(\"The cursor is closed.\")\n",
    "    connection.close()\n",
    "    print(\"MySQL connection is closed.\")\n",
    "else:\n",
    "    print(\"Connection is already closed\")"
   ]
  }
 ],
 "metadata": {
  "kernelspec": {
   "display_name": "Python 3 (ipykernel)",
   "language": "python",
   "name": "python3"
  },
  "language_info": {
   "codemirror_mode": {
    "name": "ipython",
    "version": 3
   },
   "file_extension": ".py",
   "mimetype": "text/x-python",
   "name": "python",
   "nbconvert_exporter": "python",
   "pygments_lexer": "ipython3",
   "version": "3.11.2"
  }
 },
 "nbformat": 4,
 "nbformat_minor": 5
}
